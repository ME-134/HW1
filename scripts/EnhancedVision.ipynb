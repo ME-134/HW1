{
 "cells": [
  {
   "cell_type": "code",
   "execution_count": 2,
   "id": "b09a3c48",
   "metadata": {},
   "outputs": [],
   "source": [
    "import matplotlib.pyplot as plt"
   ]
  },
  {
   "cell_type": "code",
   "execution_count": 1,
   "id": "14345a14",
   "metadata": {},
   "outputs": [
    {
     "name": "stderr",
     "output_type": "stream",
     "text": [
      "Using cache found in C:\\Users\\Thomas/.cache\\torch\\hub\\rwightman_gen-efficientnet-pytorch_master\n"
     ]
    }
   ],
   "source": [
    "from glob import glob\n",
    "import numpy as np \n",
    "from sklearn.decomposition import PCA\n",
    "import cv2\n",
    "\n",
    "import torch\n",
    "import torch.nn as nn\n",
    "from torch.utils import data\n",
    "\n",
    "import torch.multiprocessing as mp\n",
    "from thomas_detector import ThomasDetector, get_piece_mask, calc_rotation\n",
    "from puzzle_grid import PuzzleGrid, get_xy_min\n",
    "\n",
    "from vision import *\n",
    "import imgaug as ia\n",
    "import imgaug.augmenters as iaa\n"
   ]
  },
  {
   "cell_type": "code",
   "execution_count": 9,
   "id": "34976867",
   "metadata": {},
   "outputs": [],
   "source": [
    "good1s = glob('../vision/imgs/good1_*.jpg')\n",
    "good2s = [p.replace('good1', 'good2') for p in good1s]\n",
    "\n",
    "bad1s = glob('../vision/imgs/bad1_*.jpg')\n",
    "bad2s = [p.replace('bad1', 'bad2') for p in bad1s]"
   ]
  },
  {
   "cell_type": "code",
   "execution_count": 11,
   "id": "4d3da8a3",
   "metadata": {},
   "outputs": [
    {
     "data": {
      "text/plain": [
       "24"
      ]
     },
     "execution_count": 11,
     "metadata": {},
     "output_type": "execute_result"
    }
   ],
   "source": [
    "x"
   ]
  },
  {
   "cell_type": "code",
   "execution_count": null,
   "id": "aa01157a",
   "metadata": {},
   "outputs": [],
   "source": []
  }
 ],
 "metadata": {
  "kernelspec": {
   "display_name": "Python [conda env:pytorch]",
   "language": "python",
   "name": "conda-env-pytorch-py"
  },
  "language_info": {
   "codemirror_mode": {
    "name": "ipython",
    "version": 3
   },
   "file_extension": ".py",
   "mimetype": "text/x-python",
   "name": "python",
   "nbconvert_exporter": "python",
   "pygments_lexer": "ipython3",
   "version": "3.9.7"
  }
 },
 "nbformat": 4,
 "nbformat_minor": 5
}
